{
 "cells": [
  {
   "cell_type": "markdown",
   "metadata": {},
   "source": [
    "install nuget package for semantic kernel and Mistrial AI connector"
   ]
  },
  {
   "cell_type": "code",
   "execution_count": 3,
   "metadata": {
    "vscode": {
     "languageId": "csharp"
    }
   },
   "outputs": [
    {
     "data": {
      "text/html": [
       "<div><div></div><div></div><div><strong>Installed Packages</strong><ul><li><span>Microsoft.SemanticKernel, 1.22.0</span></li><li><span>Microsoft.SemanticKernel.Connectors.MistralAI, 1.22.0-alpha</span></li></ul></div></div>"
      ]
     },
     "metadata": {},
     "output_type": "display_data"
    }
   ],
   "source": [
    "\n",
    "#r \"nuget: Microsoft.SemanticKernel, 1.22.0\"\n",
    "#r \"nuget: Microsoft.SemanticKernel.Connectors.MistralAI, 1.22.0-alpha\"\n"
   ]
  },
  {
   "cell_type": "markdown",
   "metadata": {},
   "source": [
    "import the semantic Kernel packages"
   ]
  },
  {
   "cell_type": "code",
   "execution_count": 4,
   "metadata": {
    "vscode": {
     "languageId": "csharp"
    }
   },
   "outputs": [],
   "source": [
    "\n",
    "using Microsoft.SemanticKernel;\n",
    "using Microsoft.SemanticKernel.ChatCompletion;\n"
   ]
  },
  {
   "cell_type": "code",
   "execution_count": 8,
   "metadata": {
    "vscode": {
     "languageId": "csharp"
    }
   },
   "outputs": [
    {
     "name": "stdout",
     "output_type": "stream",
     "text": [
      "Hello! I'm functioning perfectly, thank you for asking. I'm here to help. How about you? How are you doing today?\n"
     ]
    }
   ],
   "source": [
    "// create and build Kernel using Mistral AI configuration\n",
    "#pragma warning disable SKEXP0070\n",
    "IKernelBuilder kernelBuilder = Kernel.CreateBuilder();\n",
    "kernelBuilder.AddMistralChatCompletion(\n",
    "    modelId: \"mistral-small-latest\",\n",
    "    apiKey: \"<APIKey>\"\n",
    ");\n",
    "Kernel kernel = kernelBuilder.Build();\n",
    "ChatHistory history = [];\n",
    "\n",
    "// add user messages to the history\n",
    "history.AddUserMessage(\"Hello, how are you?\");\n",
    "// get the response from\n",
    "var response = await chatCompletionService.GetChatMessageContentAsync(\n",
    "    history,\n",
    "    kernel: kernel\n",
    ");\n",
    "\n",
    "Console.WriteLine(response); // Outputs: \"I'm doing well, thank you! How can I help you today?\""
   ]
  }
 ],
 "metadata": {
  "kernelspec": {
   "display_name": ".NET (C#)",
   "language": "C#",
   "name": ".net-csharp"
  },
  "language_info": {
   "file_extension": ".cs",
   "mimetype": "text/x-csharp",
   "name": "C#",
   "pygments_lexer": "csharp",
   "version": "12.0"
  }
 },
 "nbformat": 4,
 "nbformat_minor": 2
}
