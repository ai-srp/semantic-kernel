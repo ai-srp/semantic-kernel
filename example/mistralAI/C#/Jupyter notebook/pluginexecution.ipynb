{
 "cells": [
  {
   "cell_type": "markdown",
   "metadata": {},
   "source": [
    "Install nuget package\n",
    "- install semantic kernel 1.22.0\n",
    "- install MistralAI connector 1.22.0-alpha"
   ]
  },
  {
   "cell_type": "code",
   "execution_count": null,
   "metadata": {
    "vscode": {
     "languageId": "csharp"
    }
   },
   "outputs": [
    {
     "data": {
      "text/html": [
       "\r\n",
       "<div>\r\n",
       "    <div id='dotnet-interactive-this-cell-18340.Microsoft.DotNet.Interactive.Http.HttpPort' style='display: none'>\r\n",
       "        The below script needs to be able to find the current output cell; this is an easy method to get it.\r\n",
       "    </div>\r\n",
       "    <script type='text/javascript'>\r\n",
       "async function probeAddresses(probingAddresses) {\r\n",
       "    function timeout(ms, promise) {\r\n",
       "        return new Promise(function (resolve, reject) {\r\n",
       "            setTimeout(function () {\r\n",
       "                reject(new Error('timeout'))\r\n",
       "            }, ms)\r\n",
       "            promise.then(resolve, reject)\r\n",
       "        })\r\n",
       "    }\r\n",
       "\r\n",
       "    if (Array.isArray(probingAddresses)) {\r\n",
       "        for (let i = 0; i < probingAddresses.length; i++) {\r\n",
       "\r\n",
       "            let rootUrl = probingAddresses[i];\r\n",
       "\r\n",
       "            if (!rootUrl.endsWith('/')) {\r\n",
       "                rootUrl = `${rootUrl}/`;\r\n",
       "            }\r\n",
       "\r\n",
       "            try {\r\n",
       "                let response = await timeout(1000, fetch(`${rootUrl}discovery`, {\r\n",
       "                    method: 'POST',\r\n",
       "                    cache: 'no-cache',\r\n",
       "                    mode: 'cors',\r\n",
       "                    timeout: 1000,\r\n",
       "                    headers: {\r\n",
       "                        'Content-Type': 'text/plain'\r\n",
       "                    },\r\n",
       "                    body: probingAddresses[i]\r\n",
       "                }));\r\n",
       "\r\n",
       "                if (response.status == 200) {\r\n",
       "                    return rootUrl;\r\n",
       "                }\r\n",
       "            }\r\n",
       "            catch (e) { }\r\n",
       "        }\r\n",
       "    }\r\n",
       "}\r\n",
       "\r\n",
       "function loadDotnetInteractiveApi() {\r\n",
       "    probeAddresses([\"http://192.168.1.10:2049/\", \"http://172.19.144.1:2049/\", \"http://127.0.0.1:2049/\"])\r\n",
       "        .then((root) => {\r\n",
       "        // use probing to find host url and api resources\r\n",
       "        // load interactive helpers and language services\r\n",
       "        let dotnetInteractiveRequire = require.config({\r\n",
       "        context: '18340.Microsoft.DotNet.Interactive.Http.HttpPort',\r\n",
       "                paths:\r\n",
       "            {\r\n",
       "                'dotnet-interactive': `${root}resources`\r\n",
       "                }\r\n",
       "        }) || require;\r\n",
       "\r\n",
       "            window.dotnetInteractiveRequire = dotnetInteractiveRequire;\r\n",
       "\r\n",
       "            window.configureRequireFromExtension = function(extensionName, extensionCacheBuster) {\r\n",
       "                let paths = {};\r\n",
       "                paths[extensionName] = `${root}extensions/${extensionName}/resources/`;\r\n",
       "                \r\n",
       "                let internalRequire = require.config({\r\n",
       "                    context: extensionCacheBuster,\r\n",
       "                    paths: paths,\r\n",
       "                    urlArgs: `cacheBuster=${extensionCacheBuster}`\r\n",
       "                    }) || require;\r\n",
       "\r\n",
       "                return internalRequire\r\n",
       "            };\r\n",
       "        \r\n",
       "            dotnetInteractiveRequire([\r\n",
       "                    'dotnet-interactive/dotnet-interactive'\r\n",
       "                ],\r\n",
       "                function (dotnet) {\r\n",
       "                    dotnet.init(window);\r\n",
       "                },\r\n",
       "                function (error) {\r\n",
       "                    console.log(error);\r\n",
       "                }\r\n",
       "            );\r\n",
       "        })\r\n",
       "        .catch(error => {console.log(error);});\r\n",
       "    }\r\n",
       "\r\n",
       "// ensure `require` is available globally\r\n",
       "if ((typeof(require) !==  typeof(Function)) || (typeof(require.config) !== typeof(Function))) {\r\n",
       "    let require_script = document.createElement('script');\r\n",
       "    require_script.setAttribute('src', 'https://cdnjs.cloudflare.com/ajax/libs/require.js/2.3.6/require.min.js');\r\n",
       "    require_script.setAttribute('type', 'text/javascript');\r\n",
       "    \r\n",
       "    \r\n",
       "    require_script.onload = function() {\r\n",
       "        loadDotnetInteractiveApi();\r\n",
       "    };\r\n",
       "\r\n",
       "    document.getElementsByTagName('head')[0].appendChild(require_script);\r\n",
       "}\r\n",
       "else {\r\n",
       "    loadDotnetInteractiveApi();\r\n",
       "}\r\n",
       "\r\n",
       "    </script>\r\n",
       "</div>"
      ]
     },
     "metadata": {},
     "output_type": "display_data"
    }
   ],
   "source": [
    "#r \"nuget: Microsoft.SemanticKernel, 1.22.0\"\n",
    "#r \"nuget: Microsoft.SemanticKernel.Connectors.MistralAI, 1.22.0-alpha\"\n",
    "#r \"nuget: System.Text.Json, 7.0.0\""
   ]
  },
  {
   "cell_type": "markdown",
   "metadata": {},
   "source": [
    "import packages"
   ]
  },
  {
   "cell_type": "code",
   "execution_count": 2,
   "metadata": {
    "vscode": {
     "languageId": "csharp"
    }
   },
   "outputs": [
    {
     "name": "stderr",
     "output_type": "stream",
     "text": [
      "\n",
      "(9,7): warning CS0105: The using directive for 'System.ComponentModel' appeared previously in this namespace\n",
      "\n"
     ]
    }
   ],
   "source": [
    "\n",
    "using Microsoft.SemanticKernel;\n",
    "using Microsoft.SemanticKernel.ChatCompletion;\n",
    "using Microsoft.SemanticKernel.Connectors.MistralAI;\n",
    "\n",
    "using System.ComponentModel;\n",
    "using System;\n",
    "using System.Collections.Generic;\n",
    "using System.ComponentModel;\n",
    "using System.Linq;\n",
    "using System.Text.Json.Serialization;\n",
    "using System.Threading.Tasks;"
   ]
  },
  {
   "cell_type": "markdown",
   "metadata": {},
   "source": [
    "Create Plugin function"
   ]
  },
  {
   "cell_type": "code",
   "execution_count": 3,
   "metadata": {
    "vscode": {
     "languageId": "csharp"
    }
   },
   "outputs": [
    {
     "name": "stderr",
     "output_type": "stream",
     "text": [
      "\n",
      "(24,32): warning CS8632: The annotation for nullable reference types should only be used in code within a '#nullable' annotations context.\n",
      "\n",
      "(16,40): warning CS1998: This async method lacks 'await' operators and will run synchronously. Consider using the 'await' operator to await non-blocking API calls, or 'await Task.Run(...)' to do CPU-bound work on a background thread.\n",
      "\n",
      "(24,35): warning CS1998: This async method lacks 'await' operators and will run synchronously. Consider using the 'await' operator to await non-blocking API calls, or 'await Task.Run(...)' to do CPU-bound work on a background thread.\n",
      "\n"
     ]
    }
   ],
   "source": [
    "\n",
    "\n",
    "public class LightsPlugin\n",
    "{\n",
    "   // Mock data for the lights\n",
    "   private readonly List<LightModel> lights = new()\n",
    "   {\n",
    "      new LightModel { Id = 1, Name = \"Table Lamp\", IsOn = false },\n",
    "      new LightModel { Id = 2, Name = \"Porch light\", IsOn = false },\n",
    "      new LightModel { Id = 3, Name = \"Chandelier\", IsOn = true }\n",
    "   };\n",
    "\n",
    "   [KernelFunction(\"get_lights\")]\n",
    "   [Description(\"Gets a list of lights and their current state\")]\n",
    "   [return: Description(\"An array of lights\")]\n",
    "   public async Task<List<LightModel>> GetLightsAsync()\n",
    "   {\n",
    "      return lights;\n",
    "   }\n",
    "\n",
    "   [KernelFunction(\"change_state\")]\n",
    "   [Description(\"Changes the state of the light\")]\n",
    "   [return: Description(\"The updated state of the light; will return null if the light does not exist\")]\n",
    "   public async Task<LightModel?> ChangeStateAsync(int id, bool isOn)\n",
    "   {\n",
    "      var light = lights.FirstOrDefault(light => light.Id == id);\n",
    "\n",
    "      if (light == null)\n",
    "      {\n",
    "         return null;\n",
    "      }\n",
    "\n",
    "      // Update the light with the new state\n",
    "      light.IsOn = isOn;\n",
    "\n",
    "      return light;\n",
    "   }\n",
    "}\n",
    "\n",
    "public class LightModel\n",
    "{\n",
    "   [JsonPropertyName(\"id\")]\n",
    "   public int Id { get; set; }\n",
    "\n",
    "   [JsonPropertyName(\"name\")]\n",
    "   public string Name { get; set; }\n",
    "\n",
    "   [JsonPropertyName(\"is_on\")]\n",
    "   public bool? IsOn { get; set; }\n",
    "}"
   ]
  },
  {
   "cell_type": "markdown",
   "metadata": {},
   "source": [
    "Create Semantic Kernel builder"
   ]
  },
  {
   "cell_type": "code",
   "execution_count": 4,
   "metadata": {
    "vscode": {
     "languageId": "csharp"
    }
   },
   "outputs": [],
   "source": [
    "// create and build Kernel using Mistral AI configuration\n",
    "#pragma warning disable SKEXP0070\n",
    "IKernelBuilder kernelBuilder = Kernel.CreateBuilder();\n",
    "kernelBuilder.AddMistralChatCompletion(\n",
    "    modelId: \"mistral-small-latest\",\n",
    "    apiKey: \"<APIKey>\"\n",
    ");\n",
    "Kernel kernel = kernelBuilder.Build();\n",
    "var chatCompletionService = kernel.GetRequiredService<IChatCompletionService>();"
   ]
  },
  {
   "cell_type": "markdown",
   "metadata": {},
   "source": [
    "Add plugin to Kernel"
   ]
  },
  {
   "cell_type": "code",
   "execution_count": 5,
   "metadata": {
    "vscode": {
     "languageId": "csharp"
    }
   },
   "outputs": [],
   "source": [
    "// Add a plugin (the LightsPlugin class is defined below)\n",
    "kernel.Plugins.AddFromType<LightsPlugin>(\"Lights\");\n"
   ]
  },
  {
   "cell_type": "markdown",
   "metadata": {},
   "source": [
    "Call ChatCompletion service and get response\n",
    "- Enable Planner\n",
    "    - Define Execution Setting for Mistral AI (ToolCallBehavior Auto)\n",
    "- Create chat prompt message (input) and invoke kernel"
   ]
  },
  {
   "cell_type": "code",
   "execution_count": 11,
   "metadata": {
    "vscode": {
     "languageId": "csharp"
    }
   },
   "outputs": [
    {
     "name": "stdout",
     "output_type": "stream",
     "text": [
      "Assistant > Here are the lights and their current states:\n",
      "\n",
      "- Table Lamp: Off\n",
      "- Porch light: Off\n",
      "- Chandelier: On\n",
      "\n",
      "Which light would you like to turn on or off?\n"
     ]
    }
   ],
   "source": [
    "\n",
    "#pragma warning disable SKEXP0070\n",
    "// Enable planning with Mistral AI settings\n",
    "var execution_settings = new MistralAIPromptExecutionSettings\n",
    "{\n",
    "    ToolCallBehavior = MistralAIToolCallBehavior.AutoInvokeKernelFunctions\n",
    "};\n",
    "\n",
    "//User input\n",
    "const string chatPrompt = \"<message role=\\\"user\\\"> Gets a list of lights and their current state</message>\";\n",
    "\n",
    "var chatSemanticFunction = kernel.CreateFunctionFromPrompt(chatPrompt,execution_settings);\n",
    "\n",
    "// Get the response from the AI\n",
    "var chatPromptResult = await kernel.InvokeAsync(chatSemanticFunction);\n",
    "// Print the results\n",
    "Console.WriteLine(\"Assistant > \" + chatPromptResult);"
   ]
  }
 ],
 "metadata": {
  "kernelspec": {
   "display_name": ".NET (C#)",
   "language": "C#",
   "name": ".net-csharp"
  },
  "language_info": {
   "file_extension": ".cs",
   "mimetype": "text/x-csharp",
   "name": "C#",
   "pygments_lexer": "csharp",
   "version": "12.0"
  }
 },
 "nbformat": 4,
 "nbformat_minor": 2
}
