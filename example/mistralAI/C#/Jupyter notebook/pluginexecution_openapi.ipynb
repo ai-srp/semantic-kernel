{
 "cells": [
  {
   "cell_type": "markdown",
   "metadata": {},
   "source": [
    "Install nuget package\n",
    "- install semantic kernel 1.22.0\n",
    "- install MistralAI connector 1.22.0-alpha\n",
    "- install OpenApi Plugin 1.22.0-alpha"
   ]
  },
  {
   "cell_type": "code",
   "execution_count": 7,
   "metadata": {
    "vscode": {
     "languageId": "csharp"
    }
   },
   "outputs": [
    {
     "data": {
      "text/html": [
       "<div><div></div><div></div><div><strong>Installed Packages</strong><ul><li><span>Microsoft.SemanticKernel, 1.22.0</span></li><li><span>Microsoft.SemanticKernel.Connectors.MistralAI, 1.22.0-alpha</span></li><li><span>Microsoft.SemanticKernel.Plugins.OpenApi, 1.22.0-alpha</span></li></ul></div></div>"
      ]
     },
     "metadata": {},
     "output_type": "display_data"
    }
   ],
   "source": [
    "#r \"nuget: Microsoft.SemanticKernel, 1.22.0\"\n",
    "#r \"nuget: Microsoft.SemanticKernel.Connectors.MistralAI, 1.22.0-alpha\"\n",
    "#r \"nuget: Microsoft.SemanticKernel.Plugins.OpenApi, 1.22.0-alpha\""
   ]
  },
  {
   "cell_type": "markdown",
   "metadata": {},
   "source": [
    "import packages"
   ]
  },
  {
   "cell_type": "code",
   "execution_count": 8,
   "metadata": {
    "vscode": {
     "languageId": "csharp"
    }
   },
   "outputs": [],
   "source": [
    "\n",
    "using Microsoft.SemanticKernel;\n",
    "using Microsoft.SemanticKernel.ChatCompletion;\n",
    "using Microsoft.SemanticKernel.Connectors.MistralAI;\n",
    "using Microsoft.SemanticKernel.Plugins.OpenApi;"
   ]
  },
  {
   "cell_type": "markdown",
   "metadata": {},
   "source": [
    "Create Semantic Kernel builder"
   ]
  },
  {
   "cell_type": "code",
   "execution_count": 9,
   "metadata": {
    "vscode": {
     "languageId": "csharp"
    }
   },
   "outputs": [],
   "source": [
    "// create and build Kernel using Mistral AI configuration\n",
    "#pragma warning disable SKEXP0070\n",
    "IKernelBuilder kernelBuilder = Kernel.CreateBuilder();\n",
    "kernelBuilder.AddMistralChatCompletion(\n",
    "    modelId: \"mistral-small-latest\",\n",
    "    apiKey: \"SpUM9gQIh7TDJTMBIVay3IXkH5yrfYiU\"\n",
    ");\n",
    "Kernel kernel = kernelBuilder.Build();\n",
    "var chatCompletionService = kernel.GetRequiredService<IChatCompletionService>();"
   ]
  },
  {
   "cell_type": "markdown",
   "metadata": {},
   "source": [
    "Add plugin to Kernel"
   ]
  },
  {
   "cell_type": "code",
   "execution_count": 10,
   "metadata": {
    "vscode": {
     "languageId": "csharp"
    }
   },
   "outputs": [],
   "source": [
    "// Add a plugin (openai plugin)\n",
    "\n",
    "#pragma warning disable SKEXP0040\n",
    "await kernel.ImportPluginFromOpenApiAsync(\n",
    "   pluginName: \"lights\",\n",
    "   uri: new Uri(\"https://localhost:7082/swagger/v1/swagger.json\"),\n",
    "   executionParameters: new OpenApiFunctionExecutionParameters()\n",
    "   {\n",
    "      // Determines whether payload parameter names are augmented with namespaces.\n",
    "      // Namespaces prevent naming conflicts by adding the parent parameter name\n",
    "      // as a prefix, separated by dots\n",
    "      EnablePayloadNamespacing = true\n",
    "   }\n",
    ");\n"
   ]
  },
  {
   "cell_type": "markdown",
   "metadata": {},
   "source": [
    "Call ChatCompletion service and get response\n",
    "- Enable Planner\n",
    "    - Define Execution Setting for Mistral AI (ToolCallBehavior Auto)\n",
    "- Create chat prompt message (input) and invoke kernel"
   ]
  },
  {
   "cell_type": "code",
   "execution_count": 11,
   "metadata": {
    "vscode": {
     "languageId": "csharp"
    }
   },
   "outputs": [
    {
     "name": "stdout",
     "output_type": "stream",
     "text": [
      "Assistant > Here is the weather forecast for the next 5 days:\n",
      "\n",
      "- October 11, 2024: Hot 29°C (84°F)\n",
      "- October 12, 2024: Warm 47°C (116°F)\n",
      "- October 13, 2024: Chilly 34°C (93°F)\n",
      "- October 14, 2024: Cool 43°C (109°F)\n",
      "- October 15, 2024: Scorching 6°C (42°F)\n"
     ]
    }
   ],
   "source": [
    "\n",
    "#pragma warning disable SKEXP0070\n",
    "// Enable planning with Mistral AI settings\n",
    "var execution_settings = new MistralAIPromptExecutionSettings\n",
    "{\n",
    "    ToolCallBehavior = MistralAIToolCallBehavior.AutoInvokeKernelFunctions\n",
    "};\n",
    "\n",
    "//User input\n",
    "const string chatPrompt = \"<message role=\\\"user\\\"> Gets the Weather Forecast</message>\";\n",
    "\n",
    "var chatSemanticFunction = kernel.CreateFunctionFromPrompt(chatPrompt,execution_settings);\n",
    "\n",
    "// Get the response from the AI\n",
    "var chatPromptResult = await kernel.InvokeAsync(chatSemanticFunction);\n",
    "// Print the results\n",
    "Console.WriteLine(\"Assistant > \" + chatPromptResult);"
   ]
  }
 ],
 "metadata": {
  "kernelspec": {
   "display_name": ".NET (C#)",
   "language": "C#",
   "name": ".net-csharp"
  },
  "language_info": {
   "file_extension": ".cs",
   "mimetype": "text/x-csharp",
   "name": "C#",
   "pygments_lexer": "csharp",
   "version": "12.0"
  }
 },
 "nbformat": 4,
 "nbformat_minor": 2
}
